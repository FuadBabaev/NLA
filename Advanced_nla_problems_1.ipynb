{
  "cells": [
    {
      "cell_type": "markdown",
      "metadata": {
        "id": "eZX6lsB8IMOf"
      },
      "source": [
        "- Prove that $\\| A \\|_F \\le \\sqrt{\\mathrm{rank}(A)} \\| A \\|_2$.\n",
        "- Show that for any $m, n$ and $k \\le \\min(m, n)$ there exists $A \\in \\mathbb{R}^{m \\times n}$ such that $\\mathrm{rank}(A) = k$ and $\\| A \\|_F = \\sqrt{\\mathrm{rank}(A)} \\| A \\|_2$.\n",
        "- Prove that $\\| A B \\|_F \\le \\| A \\|_2 \\| B \\|_F$.\n",
        "\n",
        "- Let matrix $A \\in \\mathbb{C}^{n \\times n}$ and its singular value decomposition be $A = U\\Sigma V^*$. Find the singular value decomposition of the matrix $\\begin{bmatrix} 0 & A^* \\\\ A & 0 \\end{bmatrix}$ of size $2n \\times 2n$.\n",
        "- Suppose the QR decomposition of a rectangular $m \\times n, m > n$ matrix is given as $A = QR$. Show how this decomposition changes with the following modifications to matrix $A$:\n",
        "    - replacing the $k$-th column with another column vector\n",
        "    - concatenating a new row, resulting in a new matrix of dimension $(m+1) \\times n$\n",
        "    - concatenating a new column, resulting in a new matrix of dimension $m \\times (n+1)$\n",
        "\n",
        "Estimate the complexity of each of these transformations. Implement all three transformations and numerically demonstrate that your update algorithms work correctly and are faster than naive implementations that fully recompute the $Q$ and $R$ matrices. Use test matrices with dimensions of at least several hundred rows and columns.\n",
        "\n",
        "- Obtain the singular value decomposition and spectral norm of the matrix $A = u_1v_1^* + u_2v_2^*$, where $u_{1,2} \\in \\mathbb{C}^m, v_{1,2} \\in \\mathbb{C}^n$.\n",
        "- Let $A$ be a matrix such that $a_{i,j} \\geq 0$ and $\\sum_{j}a_{i,j} = 1$ (the sum of the elements in each row is 1). Prove that $A$ has an eigenvalue $\\lambda=1$ and that all eigenvalues $\\lambda_i$ satisfy $|\\lambda_i| \\le 1$.\n",
        "- Prove that a matrix is Hermitian if and only if its eigenvalues are real. Prove that a matrix is unitary if and only if all its eigenvalues have an absolute value of $|\\lambda| = 1$.\n",
        "\n",
        "\"Iff\" means \"if and only if\".\n",
        "\n",
        "- Find an analytical expression for the eigenvalues of a perturbed Jordan block\n",
        "    \n",
        "$$J(\\varepsilon) =\n",
        "\\begin{bmatrix}\n",
        "\\lambda & 1 & 0 & \\ldots & 0 \\\\\n",
        "0 & \\lambda & 1 & \\ldots & 0 \\\\\n",
        "0 & 0 & \\ddots & \\ddots & \\vdots \\\\\n",
        "\\vdots & \\vdots & \\ddots & \\lambda & 1 \\\\\n",
        "\\varepsilon & 0 & 0 & 0 & \\lambda \\\\\n",
        "\\end{bmatrix}_{n\\times n}$$\n",
        "    \n",
        "Comment on how the eigenvalues of $J(0)$ are perturbed for large $n$. What does this say about the stability of obtaining the spectrum of a matrix through its Jordan block?"
      ]
    },
    {
      "cell_type": "markdown",
      "metadata": {
        "id": "7uim_3sPPm_Q"
      },
      "source": [
        "### №1\n",
        "\n",
        "Consider the squares of the left and right sides:\n",
        "\n",
        "$$ {\\| A \\|}^2_F = \\mathrm{tr}(A^*A) = \\sum_{i=1}^{n} \\sigma_i^2 $$\n",
        "\n",
        "$$ \\left({\\sqrt{\\mathrm{rank}(A)} \\| A \\|_2}\\right)^2 = \\mathrm{rank}(A) \\cdot \\sigma_1^2 $$\n",
        "\n",
        "Since the rank of a matrix can be defined as the number of non-zero singular values and $\\sigma_1$ is the largest among them, we have:\n",
        "\n",
        "$$ {\\| A \\|}^2_F = \\sum_{i=1}^{n} \\sigma_i^2 \\leq \\mathrm{rank}(A) \\cdot \\sigma_1^2 = \\left({\\sqrt{\\mathrm{rank}(A)} \\| A \\|_2}\\right)^2 $$\n",
        "\n",
        "$$ {\\| A \\|}^2_F \\leq \\left({\\sqrt{\\mathrm{rank}(A)} \\| A \\|_2}\\right)^2 $$\n",
        "\n",
        "Taking the square root of both sides, we get:\n",
        "\n",
        "$$ \\| A \\|_F \\le \\sqrt{\\mathrm{rank}(A)} \\| A \\|_2 $$"
      ]
    },
    {
      "cell_type": "markdown",
      "metadata": {
        "id": "blpjgRPmTEwS"
      },
      "source": [
        "### №2\n",
        "\n",
        "From the solution to №1, it directly follows that if such a matrix exists, two conditions must be met:\n",
        "\n",
        "1. All its singular values are equal to the maximum, i.e., $\\sigma_1 = \\sigma_2 = ... = \\sigma_n = S$\n",
        "2. There are exactly $k$ non-zero singular values\n",
        "\n",
        "From points 1 and 2, we have:\n",
        "\n",
        "$$ {\\| A \\|}^2_F = \\mathrm{tr}(A^*A) = \\sum_{i=1}^{n} \\sigma_i^2 = k S^2 $$\n",
        "\n",
        "Therefore, if we consider a matrix $A$ of the form:\n",
        "\n",
        "$$\n",
        "\\begin{bmatrix}\n",
        "M & \\cdots & 0 \\\\\n",
        "\\vdots & \\ddots & \\vdots \\\\\n",
        "0 & \\cdots & 0 \\\\\n",
        "\\end{bmatrix}\n",
        "$$\n",
        "\n",
        "where $M$ is a square diagonal matrix with diagonal elements equal to $S = \\sqrt{k}$. Then we indeed get:\n",
        "\n",
        "$$ {\\| A \\|}^2_F = \\sum_{i=1}^{n} \\sigma_i^2 = k \\cdot k = \\mathrm{rank}(A) \\cdot \\sigma_1^2 = \\left({\\sqrt{\\mathrm{rank}(A)} \\| A \\|_2}\\right)^2 $$\n",
        "\n",
        "From which we have\n",
        "\n",
        "$$ \\| A \\|_F = \\sqrt{\\mathrm{rank}(A)} \\| A \\|_2 $$"
      ]
    },
    {
      "cell_type": "markdown",
      "metadata": {
        "id": "mxB-T6BEpzcK"
      },
      "source": [
        "### №3\n",
        "\n",
        "1. Consider the square of the original expression: $\\| A B \\|^2_F = \\mathrm{tr}((AB)^*AB) = \\mathrm{tr}(B^*A^*AB)$\n",
        "2. Decompose matrix $A$ as $A = U\\Sigma V^*$\n",
        "3. Then point 1 can be represented as: $\\mathrm{tr}(B^*(V\\Sigma U^*)U\\Sigma V^*B) = \\mathrm{tr}(B^*\\Sigma^2B)$\n",
        "4. Since $\\| A \\|_2 = \\sigma_1$, $\\| A \\|^2_2 I \\geq \\Sigma^2$\n",
        "\n",
        "From points 1-4, it follows that\n",
        "\n",
        "$$ \\| A B \\|^2_F = \\mathrm{tr}(B^*\\Sigma^2B) \\leq \\mathrm{tr}(B^*\\| A \\|^2_2 IB) = \\| A \\|^2_2 \\cdot \\mathrm{tr}(B^*B) = \\| A \\|^2_2 \\| B \\|^2_F $$\n",
        "\n",
        "From which, after taking the square root, we obtain:\n",
        "\n",
        "$$ \\| A B \\|_F \\le \\| A \\|_2 \\| B \\|_F $$"
      ]
    },
    {
      "cell_type": "markdown",
      "metadata": {
        "id": "CQhD9-iur4ji"
      },
      "source": [
        "### №4\n",
        "$$ B = \\begin{bmatrix} 0 & A^* \\\\ A & 0 \\end{bmatrix} = \\begin{bmatrix} 0 & V\\Sigma U^* \\\\ U\\Sigma V^* & 0 \\end{bmatrix} $$\n",
        "\n",
        "Let the SVD decomposition of the desired matrix $B$ be in the form\n",
        "\n",
        "$$ B = U_{B} \\Sigma_{B} V_{B} $$\n",
        "\n",
        "We have two conditions:\n",
        "\n",
        "1. $\\Sigma_{B}$ is a matrix with non-negative elements, where the elements on the main diagonal are the singular values (and all elements not on the main diagonal are zero).\n",
        "2. $U, V$ are unitary matrices.\n",
        "\n",
        "Place the blocks with singular values on the main diagonal.\n",
        "$$ \\Sigma_{B} = \\begin{bmatrix} \\Sigma & 0 \\\\ 0 & \\Sigma \\end{bmatrix} $$\n",
        "\n",
        "Then, if we multiply the matrix $\\Sigma_{B}$ on the left by the unitary matrix (with blocks being unitary matrices $U, V$) $U_{B} = \\begin{bmatrix} 0 & V \\\\ U & 0 \\end{bmatrix}$ and on the right by the matrix $V_{B} = \\begin{bmatrix} V^* & 0 \\\\ 0 & U^* \\end{bmatrix}$, we get:\n",
        "\n",
        "$$ U_{B} \\Sigma_{B} V_{B} = \\begin{bmatrix} 0 & V \\\\ U & 0 \\end{bmatrix} \\begin{bmatrix} \\Sigma & 0 \\\\ 0 & \\Sigma \\end{bmatrix} \\begin{bmatrix} V^* & 0 \\\\ 0 & U^* \\end{bmatrix} = \\begin{bmatrix} 0 & V\\Sigma U^* \\\\ U\\Sigma V^* & 0 \\end{bmatrix} = \\begin{bmatrix} 0 & A^* \\\\ A & 0 \\end{bmatrix} = B $$\n"
      ]
    },
    {
      "cell_type": "markdown",
      "metadata": {
        "id": "5YhjrJb22-Py"
      },
      "source": [
        "### №5"
      ]
    },
    {
      "cell_type": "code",
      "execution_count": 1,
      "metadata": {
        "id": "vHJcXJPQdCEL"
      },
      "outputs": [],
      "source": [
        "import numpy as np\n",
        "import time\n",
        "\n",
        "def givens_rotation(a, b):\n",
        "    if b == 0:\n",
        "        c = 1\n",
        "        s = 0\n",
        "    else:\n",
        "        if abs(b) > abs(a):\n",
        "            t = -a / b\n",
        "            s = 1 / np.sqrt(1 + t**2)\n",
        "            c = s * t\n",
        "        else:\n",
        "            t = -b / a\n",
        "            c = 1 / np.sqrt(1 + t**2)\n",
        "            s = c * t\n",
        "    return c, s\n",
        "\n",
        "def apply_givens(c, s, x, y):\n",
        "    return c * x - s * y, s * x + c * y"
      ]
    },
    {
      "cell_type": "markdown",
      "metadata": {
        "id": "mwhXq68OMIDx"
      },
      "source": [
        "5.2."
      ]
    },
    {
      "cell_type": "markdown",
      "metadata": {
        "id": "RWI6Q1mXzmWP"
      },
      "source": [
        "If we want to add a row $u$ at the $k$-th position in our $QR$ decomposition: $A = QR \\in \\mathbb{R}^{m \\times n}$, where $m > n$. We can write:\n",
        "\n",
        "$$\n",
        "\\tilde{A} =\n",
        "\\begin{bmatrix}\n",
        "A(1:k - 1, 1:n) \\\\\n",
        "u^T \\\\\n",
        "A(k:m, 1:n)\n",
        "\\end{bmatrix}\n",
        "$$\n",
        "\n",
        "We can define a permutation matrix $P$ such that:\n",
        "\n",
        "$$\n",
        "P\\tilde{A} =\n",
        "\\begin{bmatrix}\n",
        "A \\\\\n",
        "u^T\n",
        "\\end{bmatrix}\n",
        "$$\n",
        "\n",
        "and then:\n",
        "\n",
        "$$\n",
        "\\begin{bmatrix}\n",
        "Q^T & 0 \\\\\n",
        "0 & 1\n",
        "\\end{bmatrix}\n",
        "P\\tilde{A} =\n",
        "\\begin{bmatrix}\n",
        "R \\\\\n",
        "u^T\n",
        "\\end{bmatrix}\n",
        "$$\n",
        "\n",
        "To find $\\tilde{A} = \\tilde{Q}\\tilde{R}$, we can define $n$ Givens matrices $G(i,j) \\in \\mathbb{R}^{m+1 \\times m+1}$ to eliminate $u^T$:\n",
        "\n",
        "$$\n",
        "G(n, m + 1)^T \\dots G(1, m + 1)^T\n",
        "\\begin{bmatrix}\n",
        "R \\\\\n",
        "u^T\n",
        "\\end{bmatrix} = \\tilde{R}\n",
        "$$\n",
        "\n",
        "therefore:\n",
        "\n",
        "$$\n",
        "\\tilde{A} =\n",
        "\\begin{bmatrix}\n",
        "P^T & 0 \\\\\n",
        "0 & 1\n",
        "\\end{bmatrix}\n",
        "G(1, m + 1) \\dots G(n, m + 1) \\tilde{R} = \\tilde{Q}\\tilde{R}\n",
        "$$\n",
        "\n",
        "**Complexity:**\n",
        "1. To compute the updated matrix $R$ in a loop ($n$ operations for $n$ columns) requires $O(n^2)$ operations.\n",
        "2. To compute the updated matrix $Q$ in a loop ($m$ operations for $n$ columns) requires $O(m \\times n)$ operations.\n",
        "3. Since $m > n$, the final complexity will be $O(m \\times n)$.\n"
      ]
    },
    {
      "cell_type": "code",
      "execution_count": 81,
      "metadata": {
        "colab": {
          "base_uri": "https://localhost:8080/"
        },
        "id": "gsAx8Cl4Njsj",
        "outputId": "85a4168f-7966-4045-a31a-e1a7cc6225f2"
      },
      "outputs": [
        {
          "name": "stdout",
          "output_type": "stream",
          "text": [
            "Modified method took 0.070 seconds\n",
            "Naive method took 0.131 seconds\n",
            "Modified method acceleration 1.860 times\n",
            "Difference between A_naive and reconstructed matrix (Frobenius norm): 5.010308113378221e-13\n"
          ]
        }
      ],
      "source": [
        "def update_qr_insert_row(A, Q, R, u, k):\n",
        "    m, n = A.shape\n",
        "    u_copy = u.copy()\n",
        "    c_values = np.zeros(n)\n",
        "    s_values = np.zeros(n)\n",
        "\n",
        "    for j in range(n):\n",
        "        # Givens rotation calculation\n",
        "        c_values[j], s_values[j] = givens_rotation(R[j, j], u_copy[j])\n",
        "\n",
        "        # Update the diagonal element in R\n",
        "        R[j, j] = c_values[j] * R[j, j] - s_values[j] * u_copy[j]\n",
        "\n",
        "        # Update jth row of R and u\n",
        "        t1 = R[j, j+1:].copy()\n",
        "        t2 = u_copy[j+1:].copy()\n",
        "        R[j, j+1:] = c_values[j] * t1 - s_values[j] * t2\n",
        "        u_copy[j+1:] = s_values[j] * t1 + c_values[j] * t2\n",
        "\n",
        "    # Extend R to shape (n+1, n) by appending zeros\n",
        "    R_hat = np.vstack([R, np.zeros(n)])\n",
        "\n",
        "    Q_extended = np.hstack([Q, np.zeros((m, 1))])\n",
        "    last_row = np.zeros((1, n+1))\n",
        "    last_row[0, -1] = 1\n",
        "    Q_hat = np.vstack([Q_extended, last_row])\n",
        "\n",
        "    if k != m + 1:\n",
        "        Q_hat = np.vstack([Q_hat[:k, :], Q_hat[-1, :], Q_hat[k:-1, :]])\n",
        "\n",
        "    for j in range(n):\n",
        "        t1 = Q_hat[:m+1, j].copy()\n",
        "        t2 = Q_hat[:m+1, -1].copy()\n",
        "        Q_hat[:m+1, j] = c_values[j] * t1 - s_values[j] * t2\n",
        "        Q_hat[:m+1, -1] = s_values[j] * t1 + c_values[j] * t2\n",
        "\n",
        "    return Q_hat, R_hat\n",
        "\n",
        "m, n = 1000, 800\n",
        "A = np.random.rand(m, n)\n",
        "Q, R = np.linalg.qr(A)\n",
        "u = np.random.rand(n)\n",
        "k = np.random.randint(1, m+1)\n",
        "\n",
        "# Modified method\n",
        "start_time = time.time()\n",
        "Q_mod, R_mod = update_qr_insert_row(A, Q, R, u, k)\n",
        "modified_time = time.time() - start_time\n",
        "\n",
        "# Naive method\n",
        "A_naive = np.insert(A, k, u, axis=0)\n",
        "start_time = time.time()\n",
        "Q_naive, R_naive = np.linalg.qr(A_naive)\n",
        "naive_time = time.time() - start_time\n",
        "\n",
        "# Comparison\n",
        "print(f\"Modified method took {modified_time:.3f} seconds\")\n",
        "print(f\"Naive method took {naive_time:.3f} seconds\")\n",
        "print(f\"Modified method acceleration {naive_time / modified_time:.3f} times\")\n",
        "reconstructed = np.dot(Q_mod, R_mod)\n",
        "diff_matrix = A_naive - reconstructed\n",
        "\n",
        "# Compute the Frobenius norm of the difference matrix\n",
        "fro_norm_diff = np.linalg.norm(diff_matrix, 'fro')\n",
        "print(f\"Difference between A_naive and reconstructed matrix (Frobenius norm): {fro_norm_diff}\")"
      ]
    },
    {
      "cell_type": "markdown",
      "metadata": {
        "id": "pWCflvT0SPpX"
      },
      "source": [
        "#### 5.3"
      ]
    },
    {
      "cell_type": "markdown",
      "metadata": {
        "id": "vuhUqdkS2Kht"
      },
      "source": [
        "If we want to add a column $u$ at the $k$-th position in our $QR$ decomposition:\n",
        "\n",
        "$$\n",
        "\\widehat{A} = \\left[ A(1:m, 1:k - 1) \\quad u \\quad A(1:m, k:n) \\right]\n",
        "$$\n",
        "\n",
        "Then:\n",
        "\n",
        "$$\n",
        "Q^T \\widehat{A} = \\left[ R(1:m, 1:k - 1) \\quad v \\quad R(1:m, k:n) \\right]\n",
        "$$\n",
        "\n",
        "where $v = Q^T u$.\n",
        "\n",
        "Thus, we can define $m - k$ Givens matrices $G(i,j) \\in \\mathbb{R}^{m \\times m}$ to eliminate $v(k + 1:m)$. We have:\n",
        "\n",
        "$$\n",
        "G(k, k + 1)^T \\ldots G(m - 1, m)^T Q^T \\widehat{A} = Q^T \\widehat{A} = \\widehat{R}\n",
        "$$\n",
        "\n",
        "where $\\widehat{R} \\in \\mathbb{R}^{m \\times (n+1)}$ is upper triangular, and $\\widehat{Q} \\in \\mathbb{R}^{m \\times m}$ is orthogonal.\n",
        "\n",
        "**Complexity:**\n",
        "1. To compute the updated matrix $R$ in two loops ($m-k$ operations for the outer loop and $n$ for the inner loop) requires $O((m-k)n)$ operations.\n",
        "2. To compute the updated matrix $Q$ in two loops ($m-k$ operations for the outer loop and $m$ for the inner loop) requires $O((m-k)m)$ operations.\n",
        "3. Since $m > n$, the final complexity will be $O(m^2)$.\n"
      ]
    },
    {
      "cell_type": "code",
      "execution_count": 82,
      "metadata": {
        "colab": {
          "base_uri": "https://localhost:8080/"
        },
        "id": "A5D0sklpl1QB",
        "outputId": "907dc4f9-c134-413c-c250-447bca75a257"
      },
      "outputs": [
        {
          "name": "stdout",
          "output_type": "stream",
          "text": [
            "Modified method took 0.064 seconds\n",
            "Naive method took 0.209 seconds\n",
            "Modified method acceleration 3.286 times\n",
            "Difference between A_naive and reconstructed matrix (Frobenius norm): 4.62883380942303e-13\n"
          ]
        }
      ],
      "source": [
        "def update_qr_insert_column(A, Q, R, u, k):\n",
        "    m, n = R.shape\n",
        "    c = np.zeros((m,))\n",
        "    s = np.zeros((m,))\n",
        "\n",
        "    u = Q.T @ u\n",
        "\n",
        "    for i in range(m-1, k, -1):\n",
        "      c[i], s[i] = givens_rotation(u[i-1].copy(), u[i].copy())\n",
        "      u[i-1] = c[i].copy() * u[i-1].copy() - s[i].copy() * u[i].copy()\n",
        "      G = np.array([[c[i], s[i]], [-s[i], c[i]]])\n",
        "      if i <= n + 1:\n",
        "          R[i-1:i+1, i-1:n] = G.copy().T @ R[i-1:i+1, i-1:n]\n",
        "      Q[:, i-2:i] = Q[:, i-2:i] @ G.copy()\n",
        "\n",
        "    # Insert column u into R at k-th position\n",
        "    R = np.hstack((R[:, :k], u.reshape(-1,1), R[:, k:]))\n",
        "\n",
        "    return Q, R\n",
        "\n",
        "\n",
        "m, n = 1000, 800\n",
        "A = np.random.rand(m, n)\n",
        "Q, R = np.linalg.qr(A)\n",
        "u = np.random.rand(n)\n",
        "k = np.random.randint(1, m+1)\n",
        "\n",
        "# Modified method\n",
        "start_time = time.time()\n",
        "Q_mod, R_mod = update_qr_insert_row(A, Q, R, u, k)\n",
        "modified_time = time.time() - start_time\n",
        "\n",
        "# Naive method\n",
        "A_naive = np.insert(A, k, u, axis=0)\n",
        "start_time = time.time()\n",
        "Q_naive, R_naive = np.linalg.qr(A_naive)\n",
        "naive_time = time.time() - start_time\n",
        "\n",
        "# Comparison\n",
        "print(f\"Modified method took {modified_time:.3f} seconds\")\n",
        "print(f\"Naive method took {naive_time:.3f} seconds\")\n",
        "print(f\"Modified method acceleration {naive_time / modified_time:.3f} times\")\n",
        "reconstructed = np.dot(Q_mod, R_mod)\n",
        "diff_matrix = A_naive - reconstructed\n",
        "\n",
        "# Compute the Frobenius norm of the difference matrix\n",
        "fro_norm_diff = np.linalg.norm(diff_matrix, 'fro')\n",
        "print(f\"Difference between A_naive and reconstructed matrix (Frobenius norm): {fro_norm_diff}\")"
      ]
    },
    {
      "cell_type": "markdown",
      "metadata": {
        "id": "6knDdCunJmxY"
      },
      "source": [
        "### №6"
      ]
    },
    {
      "cell_type": "markdown",
      "metadata": {
        "id": "pV_Qs9Q8JonV"
      },
      "source": [
        "This representation of the matrix $A$ almost immediately gives us the singular value decomposition (where $u_1$ and $u_2$ form the matrix $U$, $v_1$ and $v_2$ form the matrix $V$, and the singular values are 1). However, in this case, we do not guarantee the unitarity of the matrices $U$ and $V$.\n",
        "\n",
        "We will create a vector $u_3$ such that $u_3$ is orthogonal to $u_1$. To do this, represent $u_3 = u_2 - \\mathrm{proj}_{u_1}(u_2) = u_2 - \\frac{u_2 \\cdot u_1}{u_1 \\cdot u_1} u_1$. Normalize the orthogonal vectors $u_1$ and $u_3$ to obtain the unitary matrix $U$.\n",
        "\n",
        "$$\n",
        "\\overline{u_1} = \\frac{u_1}{||u_1||_2}, \\quad \\overline{u_3} = \\frac{u_3}{||u_3||_2}\n",
        "$$\n",
        "\n",
        "$$\n",
        "U = \\begin{bmatrix}\n",
        "\\mathbf{\\overline{u_1}} & \\mathbf{\\overline{u_3}}\n",
        "\\end{bmatrix}\n",
        "$$\n",
        "\n",
        "Perform similar actions to obtain the vector $v_3^*$.\n",
        "$$\n",
        "v_3^* = v_2^* - \\mathrm{proj}_{v_1^*}(v_2^*) = v_2^* - \\frac{v_2^* \\cdot v_1^*}{v_1^* \\cdot v_1^*} v_1^*\n",
        "$$\n",
        "\n",
        "$$\n",
        "\\overline{v_1^*} = \\frac{v_1^*}{||v_1^*||_2}, \\quad \\overline{v_3^*} = \\frac{v_3^*}{||v_3^*||_2}\n",
        "$$\n",
        "\n",
        "$$\n",
        "V = \\begin{bmatrix}\n",
        "\\mathbf{\\overline{v_1^*}}^T \\\\\n",
        "\\mathbf{\\overline{v_3^*}}^T\n",
        "\\end{bmatrix}\n",
        "$$\n",
        "\n",
        "Then $\\Sigma_1 = ||u_1||_2 ||v_1^*||_2$ is the spectral norm of the matrix.\n"
      ]
    },
    {
      "cell_type": "markdown",
      "metadata": {
        "id": "mN4qNJ1YXVxv"
      },
      "source": [
        "### №7"
      ]
    },
    {
      "cell_type": "markdown",
      "metadata": {
        "id": "wFLMh23EZR9E"
      },
      "source": [
        "Consider the column vector $v = [1, 1, \\ldots, 1]^T$ of size $n \\times 1$. Then\n",
        "\n",
        "$$\n",
        "A\\mathbf{v} = \\begin{bmatrix}\n",
        "\\sum_j a_{1,j} \\\\\n",
        "\\sum_j a_{2,j} \\\\\n",
        "\\vdots \\\\\n",
        "\\sum_j a_{m,j}\n",
        "\\end{bmatrix} = \\begin{bmatrix}\n",
        "1 \\\\\n",
        "1 \\\\\n",
        "\\vdots \\\\\n",
        "1\n",
        "\\end{bmatrix} = v\n",
        "$$\n",
        "\n",
        "From this, it directly follows that $\\lambda=1$ is an eigenvalue of the matrix $A$ with the eigenvector $v$.\n",
        "\n",
        "We use the Gershgorin Circle Theorem:\n",
        "All eigenvalues $\\lambda_i, i = 1, \\ldots, n$ are located within the union of the **Gershgorin circles** $C_i$, where $C_i$ is a circle in the complex plane centered at $a_{ii}$ with radius\n",
        "\n",
        "$$\n",
        "r_i = \\sum_{j \\ne i} |a_{ij}|.\n",
        "$$\n",
        "\n",
        "Each element in the row is non-negative, so the sum of each row, excluding the diagonal elements, will be at most 1. Thus $r_i \\leq 1$ and the Gershgorin circles are within a circle of radius 1 centered at the origin. Therefore, all eigenvalues satisfy the condition $|\\lambda_i| \\le 1$.\n"
      ]
    }
  ],
  "metadata": {
    "colab": {
      "provenance": []
    },
    "kernelspec": {
      "display_name": "Python 3 (ipykernel)",
      "language": "python",
      "name": "python3"
    },
    "language_info": {
      "codemirror_mode": {
        "name": "ipython",
        "version": 3
      },
      "file_extension": ".py",
      "mimetype": "text/x-python",
      "name": "python",
      "nbconvert_exporter": "python",
      "pygments_lexer": "ipython3",
      "version": "3.9.18"
    }
  },
  "nbformat": 4,
  "nbformat_minor": 0
}
